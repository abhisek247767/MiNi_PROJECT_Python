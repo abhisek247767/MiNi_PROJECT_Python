{
  "nbformat": 4,
  "nbformat_minor": 0,
  "metadata": {
    "colab": {
      "name": "Untitled0.ipynb",
      "provenance": [],
      "authorship_tag": "ABX9TyM+9LPZ6XfdH9JGwXXx+0Jd",
      "include_colab_link": true
    },
    "kernelspec": {
      "name": "python3",
      "display_name": "Python 3"
    },
    "language_info": {
      "name": "python"
    }
  },
  "cells": [
    {
      "cell_type": "markdown",
      "metadata": {
        "id": "view-in-github",
        "colab_type": "text"
      },
      "source": [
        "<a href=\"https://colab.research.google.com/github/abhisek247767/emailverification/blob/main/Untitled0.ipynb\" target=\"_parent\"><img src=\"https://colab.research.google.com/assets/colab-badge.svg\" alt=\"Open In Colab\"/></a>"
      ]
    },
    {
      "cell_type": "code",
      "metadata": {
        "id": "qQDncGmjgBEv",
        "colab": {
          "base_uri": "https://localhost:8080/"
        },
        "outputId": "72b4fce9-0d46-4719-e048-71394a96195b"
      },
      "source": [
        "email=input(\" Enter your email :\")#g@g.in or g.@gmail.com //minimum 6 charecter\n",
        "k,j,d=0,0,0\n",
        "if len(email)>=6:\n",
        "  if email[0].isalpha():\n",
        "    if (\"@\" in email) and (email.count(\"@\")==1): # check @\n",
        "      if (email[-4]==\".\") ^ (email[-3]==\".\"):     # check \".\" xor use if in equality detect // either-4 or -3 at a time one position:\n",
        "        for i in email:\n",
        "          if i==i.isspace():\n",
        "            k=1   # if space is threre\n",
        "          elif i.isalpha():\n",
        "            if i==i.upper():  #E=E---e=e if uper case is threr then wrong:\n",
        "              j=1\n",
        "          elif i.isdigit():\n",
        "            continue\n",
        "          elif i==\"_\" or i==\".\" or i==\"@\":\n",
        "            continue\n",
        "          else:\n",
        "            d=1\n",
        "        if k==1 or j==1 or d==1:\n",
        "          print(\"wrong Email-5 !!\")\n",
        "        else:\n",
        "          print(\"PROCEED !!\")\n",
        "      else:\n",
        "        print(\"Wrong Email-4 !!\")\n",
        "    else:\n",
        "      print(\"Wrong Email-3 !!\")\n",
        "\n",
        "  else:\n",
        "    print(\" Wrong Email-2 !!\")\n",
        "else:\n",
        "  print(\"Wrong Email-1 !!\")\n",
        "\n",
        "\n",
        "\n"
      ],
      "execution_count": 5,
      "outputs": [
        {
          "output_type": "stream",
          "name": "stdout",
          "text": [
            " Enter your email :abhisekroy169@gmail.com\n",
            "PROCEED !!\n"
          ]
        }
      ]
    },
    {
      "cell_type": "markdown",
      "metadata": {
        "id": "9mnCyOU_g5pv"
      },
      "source": [
        "# New Section"
      ]
    },
    {
      "cell_type": "code",
      "metadata": {
        "id": "g0NBKw5AXRP4",
        "colab": {
          "base_uri": "https://localhost:8080/"
        },
        "outputId": "2d0dfce6-9423-4677-d2fd-f8fcef3e3925"
      },
      "source": [
        "#another way to check whether the email is correct or wrong using linrary function !!\n",
        "\n",
        "\n",
        "import  re\n",
        "email_verification=\"^[a-z]+[\\._]?[a-z 0-9]+[@]\\w+[.]\\w{2,3}$\"\n",
        "user_email=input ('Enter your email :')\n",
        "\n",
        "if re.search(email_verification,user_email):\n",
        "  print(\"Right email\")\n",
        "else:\n",
        "  print(\"Wrong email\")"
      ],
      "execution_count": 6,
      "outputs": [
        {
          "output_type": "stream",
          "name": "stdout",
          "text": [
            "Enter your email :royabhisek083@gmail.com\n",
            "Right email\n"
          ]
        }
      ]
    },
    {
      "cell_type": "code",
      "metadata": {
        "id": "K14h1x_xYBli"
      },
      "source": [
        ""
      ],
      "execution_count": null,
      "outputs": []
    },
    {
      "cell_type": "markdown",
      "metadata": {
        "id": "pVFwsjIFXX5t"
      },
      "source": [
        "# New Section"
      ]
    }
  ]
}