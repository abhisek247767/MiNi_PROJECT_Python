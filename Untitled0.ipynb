{
  "nbformat": 4,
  "nbformat_minor": 0,
  "metadata": {
    "colab": {
      "name": "Untitled0.ipynb",
      "provenance": [],
      "authorship_tag": "ABX9TyOe9iwB+62DQDY2YwXq76Mu",
      "include_colab_link": true
    },
    "kernelspec": {
      "name": "python3",
      "display_name": "Python 3"
    },
    "language_info": {
      "name": "python"
    }
  },
  "cells": [
    {
      "cell_type": "markdown",
      "metadata": {
        "id": "view-in-github",
        "colab_type": "text"
      },
      "source": [
        "<a href=\"https://colab.research.google.com/github/abhisek247767/emailverification/blob/main/Untitled0.ipynb\" target=\"_parent\"><img src=\"https://colab.research.google.com/assets/colab-badge.svg\" alt=\"Open In Colab\"/></a>"
      ]
    },
    {
      "cell_type": "code",
      "metadata": {
        "id": "qQDncGmjgBEv",
        "colab": {
          "base_uri": "https://localhost:8080/"
        },
        "outputId": "cdd45d55-93e2-40d6-8739-eba36da928ef"
      },
      "source": [
        "email=input(\" Enter your email :\")#g@g.in or g.@gmail.com //minimum 6 charecter\n",
        "k,j,d=0,0,0\n",
        "if len(email)>=6:\n",
        "  if email[0].isalpha():\n",
        "    if (\"@\" in email) and (email.count(\"@\")==1): # check @\n",
        "      if (email[-4]==\".\") ^ (email[-3]==\".\"):     # check \".\" xor use if in equality detect // either-4 or -3 at a time one position:\n",
        "        for i in email:\n",
        "          if i==i.isspace():\n",
        "            k=1   # if space is threre\n",
        "          elif i.isalpha():\n",
        "            if i==i.upper():  #E=E---e=e if uper case is threr then wrong:\n",
        "              j=1\n",
        "          elif i.isdigit():\n",
        "            continue\n",
        "          elif i==\"_\" or i==\".\" or i==\"@\":\n",
        "            continue\n",
        "          else:\n",
        "            d=1\n",
        "        if k==1 or j==1 or d==1:\n",
        "          print(\"wrong Email-5 !!\")\n",
        "        else:\n",
        "          print(\"PROCEED !!\")\n",
        "      else:\n",
        "        print(\"Wrong Email-4 !!\")\n",
        "    else:\n",
        "      print(\"Wrong Email-3 !!\")\n",
        "\n",
        "  else:\n",
        "    print(\" Wrong Email-2 !!\")\n",
        "else:\n",
        "  print(\"Wrong Email-1 !!\")\n",
        "\n",
        "\n",
        "\n"
      ],
      "execution_count": 7,
      "outputs": [
        {
          "output_type": "stream",
          "name": "stdout",
          "text": [
            " Enter your email :abhisek@gmail.com\n",
            "PROCEED !!\n"
          ]
        }
      ]
    },
    {
      "cell_type": "markdown",
      "metadata": {
        "id": "9mnCyOU_g5pv"
      },
      "source": [
        "# New Section"
      ]
    },
    {
      "cell_type": "code",
      "metadata": {
        "id": "g0NBKw5AXRP4"
      },
      "source": [
        ""
      ],
      "execution_count": null,
      "outputs": []
    },
    {
      "cell_type": "code",
      "metadata": {
        "id": "K14h1x_xYBli"
      },
      "source": [
        ""
      ],
      "execution_count": 1,
      "outputs": []
    },
    {
      "cell_type": "markdown",
      "metadata": {
        "id": "pVFwsjIFXX5t"
      },
      "source": [
        "# New Section"
      ]
    }
  ]
}