{
  "nbformat": 4,
  "nbformat_minor": 0,
  "metadata": {
    "colab": {
      "name": "mini_project",
      "provenance": [],
      "authorship_tag": "ABX9TyNE+JqI7q9YGFTK/xQyk23W",
      "include_colab_link": true
    },
    "kernelspec": {
      "name": "python3",
      "display_name": "Python 3"
    },
    "language_info": {
      "name": "python"
    }
  },
  "cells": [
    {
      "cell_type": "markdown",
      "metadata": {
        "id": "view-in-github",
        "colab_type": "text"
      },
      "source": [
        "<a href=\"https://colab.research.google.com/github/abhisek247767/MiNi_PROJECT_Python/blob/main/mini_project.ipynb\" target=\"_parent\"><img src=\"https://colab.research.google.com/assets/colab-badge.svg\" alt=\"Open In Colab\"/></a>"
      ]
    },
    {
      "cell_type": "code",
      "metadata": {
        "id": "WRtl6qmWVCcM"
      },
      "source": [
        "# Instagram  bot\n",
        "from  instabot import Bot \n",
        "bot=Bot()\n",
        "bot.login(username=\"__abhisek__roy__\",password=\"abhi@2332\")\n",
        "bot.follow('niraj.k23')     #follow \n",
        "bot.upload_photo(\"C:\\Users\\Abhisek Roy\\Pictures/SAVE_20201030_114804\", caption=\"I l posted it using python\")\n",
        "bot.unfollow (\"souravjoshivlogs\")\n",
        "bot.send_messege(\"Hi...I am Testing sir\",[\"souravganguly\",\"neeraj____chopra\"])      #send messege\n",
        "follower=bot..get_user_follwer(\"__abhisek__roy__\")      # show the follwers list\n",
        "for follwer in follwers:\n",
        "  print(bot.get_user_info(follwer))\n",
        "\n",
        "follwing=bot.get_user_following(\"__abhisek__roy__\")   #show following list\n",
        "for following in following:\n",
        "  print(bot.get_user_info(following))\n"
      ],
      "execution_count": null,
      "outputs": []
    },
    {
      "cell_type": "code",
      "metadata": {
        "id": "cpMKuxrbXb3a",
        "colab": {
          "base_uri": "https://localhost:8080/"
        },
        "outputId": "92773b31-1d2b-4d2e-8e97-e7f2b0231dd4"
      },
      "source": [
        "#phone Number details\n",
        "! pip install phonenumbers\n"
      ],
      "execution_count": 1,
      "outputs": [
        {
          "output_type": "stream",
          "name": "stdout",
          "text": [
            "Collecting phonenumbers\n",
            "  Downloading phonenumbers-8.12.37-py2.py3-none-any.whl (2.6 MB)\n",
            "\u001b[K     |████████████████████████████████| 2.6 MB 7.3 MB/s \n",
            "\u001b[?25hInstalling collected packages: phonenumbers\n",
            "Successfully installed phonenumbers-8.12.37\n"
          ]
        }
      ]
    },
    {
      "cell_type": "code",
      "metadata": {
        "colab": {
          "base_uri": "https://localhost:8080/"
        },
        "id": "cmx2qwe0gKXd",
        "outputId": "8ee2e53a-dcba-40b1-912c-b89a89ee1fe6"
      },
      "source": [
        "import phonenumbers\n",
        "from phonenumbers import timezone,geocoder,carrier\n",
        "number=input(\"Enter your number with +-- :\")\n",
        "phone=phonenumbers.parse(number)\n",
        "time=timezone.time_zones_for_number(phone)\n",
        "car=carrier.name_for_number(phone,\"en\")\n",
        "reg=geocoder.description_for_number(phone,\"en\")\n",
        "print(phone)\n",
        "print(time)\n",
        "print(car)\n",
        "print(reg)"
      ],
      "execution_count": 5,
      "outputs": [
        {
          "output_type": "stream",
          "name": "stdout",
          "text": [
            "Enter your number with +-- :+61485813567\n",
            "Country Code: 61 National Number: 485813567\n",
            "('Australia/Adelaide', 'Australia/Eucla', 'Australia/Lord_Howe', 'Australia/Perth', 'Australia/Sydney', 'Indian/Christmas', 'Indian/Cocos')\n",
            "Pivotel Satellite\n",
            "\n"
          ]
        }
      ]
    }
  ]
}