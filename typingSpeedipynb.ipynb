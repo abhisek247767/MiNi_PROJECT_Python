{
  "nbformat": 4,
  "nbformat_minor": 0,
  "metadata": {
    "colab": {
      "name": "typingSpeedipynb",
      "provenance": [],
      "authorship_tag": "ABX9TyPgZsop+Mcw2/VRZIH54YwN",
      "include_colab_link": true
    },
    "kernelspec": {
      "name": "python3",
      "display_name": "Python 3"
    },
    "language_info": {
      "name": "python"
    }
  },
  "cells": [
    {
      "cell_type": "markdown",
      "metadata": {
        "id": "view-in-github",
        "colab_type": "text"
      },
      "source": [
        "<a href=\"https://colab.research.google.com/github/abhisek247767/MiNi_PROJECT_Python/blob/main/typingSpeedipynb.ipynb\" target=\"_parent\"><img src=\"https://colab.research.google.com/assets/colab-badge.svg\" alt=\"Open In Colab\"/></a>"
      ]
    },
    {
      "cell_type": "code",
      "metadata": {
        "id": "vFzcvEjtAufM"
      },
      "source": [
        "import random as r\n",
        "from time import *\n",
        "\n",
        "#mistake calculation\n",
        "def mistake (partest,usertest):  \n",
        "  error=0\n",
        "  for i in range(len(partest)):\n",
        "    try:      \n",
        "      if partest[i] != usertest[i]:\n",
        "        error=error+1\n",
        "    except:\n",
        "      error=error+1  # counting error using for loop\n",
        "  return error"
      ],
      "execution_count": 20,
      "outputs": []
    },
    {
      "cell_type": "code",
      "metadata": {
        "id": "QTsI0qgWCeqJ"
      },
      "source": [
        "def speed_time(time_s,time_e,userinput):\n",
        "  time_delay=time_e - time_s\n",
        "  time_R = round(time_delay,2)  #two digit roundoff\n",
        "  speed = len(userinput)/time_R\n",
        "  return round(speed)"
      ],
      "execution_count": 21,
      "outputs": []
    },
    {
      "cell_type": "code",
      "metadata": {
        "colab": {
          "base_uri": "https://localhost:8080/"
        },
        "id": "PoNPVv-SC98Z",
        "outputId": "3c9be257-bd97-4396-9c8f-455804332fcb"
      },
      "source": [
        "while True:\n",
        "  ck=input(\"Ready to test , PLEASE WRITE 'YES' otherwise 'NO' \")\n",
        "  if ck == \"YES\":\n",
        "    test =[\"Develop your knowledge of science topics and terminology as you test your typing speed with this science topics wpm typing test\",\n",
        "        \"Explore the mysteries of science while exercising your fingers. Over a dozen science topics available.\",\n",
        "       \"If you don't like a test prompt, you can get a different (random) prompt with the \"]\n",
        "    test1=r.choice(test)\n",
        "    print(\"--------------Typing speed------------\")\n",
        "    print(test1)\n",
        "    print()          #foR line break\n",
        "    print()\n",
        "    time_1=time()  # take time for  random text \n",
        "    testinput=input(\"Enter :\")\n",
        "    time_2=time()   #type the text that time\n",
        "\n",
        "    print(\"Speed :\", speed_time(time_1,time_2,testinput),\"W/Sec\")\n",
        "    print(\"Error :\", mistake(test1,testinput)) \n",
        "  elif ck ==\"NO\":\n",
        "    print(\"__Thanks For Visiting__\")\n",
        "    break\n",
        "  else:\n",
        "    print(\"WRONG INPUT !!!!\")"
      ],
      "execution_count": 26,
      "outputs": [
        {
          "output_type": "stream",
          "name": "stdout",
          "text": [
            "Ready to test , PLEASE WRITE 'YES' otherwise 'NO' YES\n",
            "--------------Typing speed------------\n",
            "Develop your knowledge of science topics and terminology as you test your typing speed with this science topics wpm typing test\n",
            "\n",
            "\n",
            "Enter :a\n",
            "Speed : 0 W/Sec\n",
            "Error : 127\n",
            "Ready to test , PLEASE WRITE 'YES' otherwise 'NO' NO\n",
            "__Thanks For Visiting__\n"
          ]
        }
      ]
    }
  ]
}